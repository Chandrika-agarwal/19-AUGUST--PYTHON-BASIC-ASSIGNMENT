{
 "cells": [
  {
   "cell_type": "code",
   "execution_count": null,
   "id": "002db65e-fe5a-4fa7-8d79-052bbc5f31a4",
   "metadata": {},
   "outputs": [],
   "source": [
    "# Take input from the user\n",
    "input_string = input(\"Enter a string: \")\n",
    "\n",
    "# Calculate the length of the string\n",
    "length = len(input_string)\n",
    "\n",
    "# Print the length of the string\n",
    "print(f\"The length of the string is {length}.\")"
   ]
  },
  {
   "cell_type": "code",
   "execution_count": null,
   "id": "b510f050-8b97-48a7-ad49-f1e21c480395",
   "metadata": {},
   "outputs": [],
   "source": [
    "You can run this program in any Python environment. It will prompt you to enter a string, and then it will print the length of the string."
   ]
  },
  {
   "cell_type": "code",
   "execution_count": null,
   "id": "74da59f8-b315-4864-95d7-19dbd84d5e98",
   "metadata": {},
   "outputs": [],
   "source": [
    "def count_vowels(sentence):\n",
    "    count = 0\n",
    "    for char in sentence:\n",
    "        if char.lower() in 'aeiou':\n",
    "            count += 1\n",
    "    return count\n",
    "\n",
    "# Take a sentence from the user\n",
    "sentence = input(\"Enter a sentence: \")\n",
    "\n",
    "# Count the number of vowels in the sentence\n",
    "count = count_vowels(sentence)\n",
    "\n",
    "print(f\"The number of vowels in the sentence is: {count}\")"
   ]
  },
  {
   "cell_type": "code",
   "execution_count": null,
   "id": "f95f6287-8558-4379-9738-a57f04bca7c9",
   "metadata": {},
   "outputs": [],
   "source": [
    "Enter a sentence: Hello, World!\n",
    "The number of vowels in the sentence is: 3"
   ]
  },
  {
   "cell_type": "code",
   "execution_count": null,
   "id": "b6e48c15-24f1-45c0-9e07-c72916dccaeb",
   "metadata": {},
   "outputs": [],
   "source": [
    "You can run this program in any Python environment. When prompted, enter a sentence and the program will count and display the number of vowels in the sentence."
   ]
  },
  {
   "cell_type": "code",
   "execution_count": null,
   "id": "70358d35-3959-4e6e-b2b7-aeb1216a5017",
   "metadata": {},
   "outputs": [],
   "source": [
    "def reverse_string(string):\n",
    "    reversed_string = string[::-1]\n",
    "    return reversed_string\n",
    "\n",
    "string = input(\"Enter a string: \")\n",
    "reversed_string = reverse_string(string)\n",
    "\n",
    "print(f\"The reversed string is: {reversed_string}\")"
   ]
  },
  {
   "cell_type": "code",
   "execution_count": null,
   "id": "66b852f6-8024-4073-a280-fadd9c6abd91",
   "metadata": {},
   "outputs": [],
   "source": [
    "Enter a string: Hello, World!\n",
    "The reversed string is: !dlroW ,olleH"
   ]
  },
  {
   "cell_type": "code",
   "execution_count": null,
   "id": "4282c751-50ef-4935-852a-6ff1f9a9baad",
   "metadata": {},
   "outputs": [],
   "source": [
    "In this code, we define a function called reverse_string that takes a string as an argument. The function uses string slicing (string[::-1]) to reverse the order of characters in the string.\n",
    "\n",
    "Then, we prompt the user to enter a string using the input function. The user's input is stored in the string variable.\n",
    "\n",
    "We call the reverse_string function with the string variable as an argument and store the reversed string in the reversed_string variable.\n",
    "\n",
    "Finally, we print the reversed string using the print function"
   ]
  },
  {
   "cell_type": "code",
   "execution_count": null,
   "id": "4d93ab6f-0cc2-4670-a19c-27b5731f1e16",
   "metadata": {},
   "outputs": [],
   "source": [
    "def is_palindrome(string):\n",
    "    string = string.lower()\n",
    "    start = 0\n",
    "    end = len(string) - 1\n",
    "\n",
    "    while start < end:\n",
    "        if not string[start].isalnum():\n",
    "            start += 1\n",
    "        elif not string[end].isalnum():\n",
    "            end -= 1\n",
    "        elif string[start] != string[end]:\n",
    "            return False\n",
    "        else:\n",
    "            start += 1\n",
    "            end -= 1\n",
    "\n",
    "    return True\n",
    "\n",
    "\n",
    "input_string = input(\"Enter a string: \")\n",
    "result = is_palindrome(input_string)\n",
    "\n",
    "if result:\n",
    "    print(\"The string is a palindrome.\")\n",
    "else:\n",
    "    print(\"The string is not a palindrome.\")"
   ]
  },
  {
   "cell_type": "code",
   "execution_count": null,
   "id": "201922ad-c7ab-40e6-aea5-a844848e5fa7",
   "metadata": {},
   "outputs": [],
   "source": [
    "def remove_spaces(input_string):\n",
    "    modified_string = input_string.replace(\" \", \"\")\n",
    "    return modified_string\n",
    "\n",
    "input_string = input(\"Enter a string: \")\n",
    "result = remove_spaces(input_string)\n",
    "print(\"Modified string without spaces:\", result)"
   ]
  },
  {
   "cell_type": "code",
   "execution_count": null,
   "id": "1af8efec-a6bf-4690-b08e-c50a79e87c17",
   "metadata": {},
   "outputs": [],
   "source": [
    "This program takes a string as input and removes all the spaces from it using the replace method. It then prints the modified string without spaces."
   ]
  }
 ],
 "metadata": {
  "kernelspec": {
   "display_name": "Python 3 (ipykernel)",
   "language": "python",
   "name": "python3"
  },
  "language_info": {
   "codemirror_mode": {
    "name": "ipython",
    "version": 3
   },
   "file_extension": ".py",
   "mimetype": "text/x-python",
   "name": "python",
   "nbconvert_exporter": "python",
   "pygments_lexer": "ipython3",
   "version": "3.10.8"
  }
 },
 "nbformat": 4,
 "nbformat_minor": 5
}
